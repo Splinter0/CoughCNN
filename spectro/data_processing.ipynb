{
 "cells": [
  {
   "cell_type": "code",
   "execution_count": 2,
   "metadata": {},
   "outputs": [
    {
     "name": "stderr",
     "output_type": "stream",
     "text": [
      "/home/splinter/.local/lib/python3.8/site-packages/librosa/util/decorators.py:9: NumbaDeprecationWarning: An import was requested from a module that has moved location.\n",
      "Import requested from: 'numba.decorators', please update to use 'numba.core.decorators' or pin to Numba version 0.48.0. This alias will not be present in Numba version 0.50.0.\n",
      "  from numba.decorators import jit as optional_jit\n",
      "/home/splinter/.local/lib/python3.8/site-packages/librosa/util/decorators.py:9: NumbaDeprecationWarning: An import was requested from a module that has moved location.\n",
      "Import of 'jit' requested from: 'numba.decorators', please update to use 'numba.core.decorators' or pin to Numba version 0.48.0. This alias will not be present in Numba version 0.50.0.\n",
      "  from numba.decorators import jit as optional_jit\n"
     ]
    }
   ],
   "source": [
    "import os\n",
    "import cv2\n",
    "import librosa\n",
    "import skimage.io\n",
    "import numpy as np\n",
    "import pandas as pd\n",
    "from tqdm import tqdm\n",
    "import librosa.display\n",
    "import matplotlib.pyplot as plt\n",
    "from IPython.display import display, Markdown\n",
    "\n",
    "import imageio.core.util\n",
    "\n",
    "def ignore_warnings(*args, **kwargs):\n",
    "    pass\n",
    "\n",
    "imageio.core.util._precision_warn = ignore_warnings"
   ]
  },
  {
   "cell_type": "code",
   "execution_count": 3,
   "metadata": {},
   "outputs": [],
   "source": [
    "DATA_FOLDER = \"data/\"\n",
    "OUT = \"samples/\"\n",
    "DATASET = \"dataset.npy\"\n",
    "LABELS = [\"cough\", \"not\"]"
   ]
  },
  {
   "cell_type": "markdown",
   "metadata": {},
   "source": [
    "#### Audio functions"
   ]
  },
  {
   "cell_type": "code",
   "execution_count": 16,
   "metadata": {},
   "outputs": [],
   "source": [
    "sample_rate = 44000\n",
    "duration = 0.5 #seconds\n",
    "hop_length = 347*duration\n",
    "n_mels = 128\n",
    "fmin = 20\n",
    "fmax = sample_rate//2\n",
    "n_fft = n_mels*20\n",
    "\n",
    "sample_size = int(sample_rate*duration)\n",
    "silent_thresh = 0.0005\n",
    "\n",
    "def envelope(signal, rate, thresh):\n",
    "    mask = []\n",
    "    y = pd.Series(signal).apply(np.abs)\n",
    "    # Create aggregated mean\n",
    "    y_mean = y.rolling(window=int(rate/10), min_periods=1, center=True).mean()\n",
    "    for m in y_mean:\n",
    "        mask.append(m > thresh)\n",
    "\n",
    "    return mask\n",
    "\n",
    "def load_audio(path):\n",
    "    signal, rate = librosa.load(path, sr=sample_rate)\n",
    "    mask = envelope(signal, rate, silent_thresh)\n",
    "    signal = signal[mask]\n",
    "    \n",
    "    return signal\n",
    "\n",
    "def melspectrogram(signal):\n",
    "    spectro = librosa.feature.melspectrogram(\n",
    "        signal,\n",
    "        sr=sample_rate,\n",
    "        n_mels=n_mels,\n",
    "        n_fft=n_fft\n",
    "    )\n",
    "    spectro = librosa.power_to_db(spectro)\n",
    "    spectro = spectro.astype(np.float32)\n",
    "    return spectro\n",
    "\n",
    "def minmax(X, min=0.0, max=1.0):\n",
    "    X_std = (X - X.min()) / (X.max() - X.min())\n",
    "    X_scaled = X_std * (max - min) + min\n",
    "    return X_scaled\n",
    "\n",
    "def plot_spectro(spectro):\n",
    "    librosa.display.specshow(\n",
    "        spectro, \n",
    "        x_axis='time', \n",
    "        y_axis='mel', \n",
    "        sr=sample_rate, \n",
    "        hop_length=hop_length,                   \n",
    "        fmin=fmin, \n",
    "        fmax=fmax    \n",
    "    )\n",
    "    plt.colorbar(format='%+2.0f dB')\n",
    "    plt.title(\"Log-frequency power spectrogram\")\n",
    "    plt.show()\n",
    "\n",
    "def audio_to_image(audio, out):\n",
    "    signal = load_audio(audio)\n",
    "    mels = melspectrogram(signal)\n",
    "    skimage.io.imsave(out, mels)\n",
    "\n",
    "def process(audio, out):\n",
    "    signal = load_audio(audio)\n",
    "    \n",
    "    current = 0\n",
    "    end = False\n",
    "    count = 0\n",
    "    \n",
    "    if len(signal) < sample_size:\n",
    "        return\n",
    "\n",
    "    while not end:\n",
    "        if current+sample_size > len(signal):\n",
    "            sample = signal[len(signal)-sample_size:]\n",
    "            end = True\n",
    "        else:\n",
    "            sample = signal[current:current+sample_size]\n",
    "            current += sample_size\n",
    "        \n",
    "        mels = melspectrogram(sample)\n",
    "        skimage.io.imsave(out+str(count)+\".png\", mels, check_contrast=False)\n",
    "        count += 1"
   ]
  },
  {
   "cell_type": "markdown",
   "metadata": {},
   "source": [
    "### Convert dataset to log mel spectrogram"
   ]
  },
  {
   "cell_type": "code",
   "execution_count": 17,
   "metadata": {},
   "outputs": [
    {
     "data": {
      "text/markdown": [
       "**Processing:** *cough*"
      ],
      "text/plain": [
       "<IPython.core.display.Markdown object>"
      ]
     },
     "metadata": {},
     "output_type": "display_data"
    },
    {
     "name": "stderr",
     "output_type": "stream",
     "text": [
      "100%|██████████| 36/36 [03:22<00:00,  5.64s/it]\n"
     ]
    },
    {
     "data": {
      "text/markdown": [
       "**Processing:** *not*"
      ],
      "text/plain": [
       "<IPython.core.display.Markdown object>"
      ]
     },
     "metadata": {},
     "output_type": "display_data"
    },
    {
     "name": "stderr",
     "output_type": "stream",
     "text": [
      "100%|██████████| 2000/2000 [10:40<00:00,  3.12it/s]\n"
     ]
    }
   ],
   "source": [
    "for l in LABELS:\n",
    "    display(Markdown(\"**Processing:** *\"+l+\"*\"))\n",
    "    count = 0\n",
    "    for audio in tqdm(os.listdir(DATA_FOLDER+l)):\n",
    "        if os.path.splitext(audio)[-1] != \".wav\":\n",
    "            continue\n",
    "        process(DATA_FOLDER+l+\"/\"+audio, OUT+l+\"/\"+str(count)+\"-\")\n",
    "        count += 1"
   ]
  },
  {
   "cell_type": "code",
   "execution_count": 4,
   "metadata": {},
   "outputs": [
    {
     "data": {
      "text/markdown": [
       "A total of **5195** samples"
      ],
      "text/plain": [
       "<IPython.core.display.Markdown object>"
      ]
     },
     "metadata": {},
     "output_type": "display_data"
    }
   ],
   "source": [
    "DATA_SIZE = len(os.listdir(OUT+\"cough/\"))\n",
    "display(Markdown(\"A total of **\"+str(DATA_SIZE)+\"** samples\"))"
   ]
  },
  {
   "cell_type": "markdown",
   "metadata": {},
   "source": [
    "### Save images with labels into numpy file"
   ]
  },
  {
   "cell_type": "code",
   "execution_count": 12,
   "metadata": {},
   "outputs": [
    {
     "data": {
      "text/markdown": [
       "**Processing:** *cough*"
      ],
      "text/plain": [
       "<IPython.core.display.Markdown object>"
      ]
     },
     "metadata": {},
     "output_type": "display_data"
    },
    {
     "name": "stderr",
     "output_type": "stream",
     "text": [
      "100%|██████████| 5195/5195 [00:00<00:00, 9053.36it/s]\n"
     ]
    },
    {
     "data": {
      "text/markdown": [
       "**Processing:** *not*"
      ],
      "text/plain": [
       "<IPython.core.display.Markdown object>"
      ]
     },
     "metadata": {},
     "output_type": "display_data"
    },
    {
     "name": "stderr",
     "output_type": "stream",
     "text": [
      "100%|██████████| 5195/5195 [00:21<00:00, 240.84it/s]\n"
     ]
    }
   ],
   "source": [
    "data = [[], []]\n",
    "for i, label in enumerate(LABELS):\n",
    "    samples = os.listdir(OUT+label)\n",
    "    np.random.shuffle(samples)\n",
    "    samples = samples[:DATA_SIZE]\n",
    "    display(Markdown(\"**Processing:** *\"+label+\"*\"))\n",
    "    for image in tqdm(samples):\n",
    "        img = cv2.imread(OUT+label+\"/\"+image)\n",
    "        data[0].append(img)\n",
    "        data[1].append(i)\n",
    "    \n",
    "np.save(DATASET, data)"
   ]
  },
  {
   "cell_type": "code",
   "execution_count": 15,
   "metadata": {},
   "outputs": [
    {
     "data": {
      "image/png": "[encoded data removed]",
      "text/plain": [
       "<Figure size 432x288 with 1 Axes>"
      ]
     },
     "metadata": {
      "needs_background": "light"
     },
     "output_type": "display_data"
    }
   ],
   "source": [
    "plt.title(\"Example of sample\")\n",
    "eg = plt.imshow(data[0][0])"
   ]
  },
  {
   "cell_type": "code",
   "execution_count": 84,
   "metadata": {},
   "outputs": [
    {
     "data": {
      "text/markdown": [
       "Sample has a **shape** of: *(128, 43, 3)*"
      ],
      "text/plain": [
       "<IPython.core.display.Markdown object>"
      ]
     },
     "metadata": {},
     "output_type": "display_data"
    }
   ],
   "source": [
    "display(Markdown(\"Sample has a **shape** of: *\"+str(data[0][0].shape)+\"*\"))"
   ]
  }
 ],
 "metadata": {
  "kernelspec": {
   "display_name": "Python 3",
   "language": "python",
   "name": "python3"
  },
  "language_info": {
   "codemirror_mode": {
    "name": "ipython",
    "version": 3
   },
   "file_extension": ".py",
   "mimetype": "text/x-python",
   "name": "python",
   "nbconvert_exporter": "python",
   "pygments_lexer": "ipython3",
   "version": "3.8.2"
  }
 },
 "nbformat": 4,
 "nbformat_minor": 4
}
