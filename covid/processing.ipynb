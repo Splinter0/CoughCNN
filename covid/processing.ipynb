{
 "cells": [
  {
   "cell_type": "code",
   "execution_count": 1,
   "metadata": {},
   "outputs": [
    {
     "name": "stderr",
     "output_type": "stream",
     "text": [
      "/home/splinter/.local/lib/python3.8/site-packages/librosa/util/decorators.py:9: NumbaDeprecationWarning: An import was requested from a module that has moved location.\n",
      "Import requested from: 'numba.decorators', please update to use 'numba.core.decorators' or pin to Numba version 0.48.0. This alias will not be present in Numba version 0.50.0.\n",
      "  from numba.decorators import jit as optional_jit\n",
      "/home/splinter/.local/lib/python3.8/site-packages/librosa/util/decorators.py:9: NumbaDeprecationWarning: An import was requested from a module that has moved location.\n",
      "Import of 'jit' requested from: 'numba.decorators', please update to use 'numba.core.decorators' or pin to Numba version 0.48.0. This alias will not be present in Numba version 0.50.0.\n",
      "  from numba.decorators import jit as optional_jit\n"
     ]
    }
   ],
   "source": [
    "import os\n",
    "import sys\n",
    "import librosa\n",
    "import numpy as np\n",
    "from tqdm import tqdm\n",
    "\n",
    "sys.path.insert(0, \"/home/splinter/Desktop/VoiceMed/CoughCNN/short-spectro/\")\n",
    "\n",
    "import detector\n",
    "\n",
    "cough = detector.Detector()\n"
   ]
  },
  {
   "cell_type": "code",
   "execution_count": 2,
   "metadata": {},
   "outputs": [],
   "source": [
    "DATASET = \"dataset/\"\n",
    "WEBAPP = \"/home/splinter/Desktop/VoiceMed/qualityCheck/data/web_app/\"\n",
    "OUT = \"data/positive/\""
   ]
  },
  {
   "cell_type": "code",
   "execution_count": 4,
   "metadata": {},
   "outputs": [
    {
     "name": "stdout",
     "output_type": "stream",
     "text": [
      "Processing WebApp data\n"
     ]
    }
   ],
   "source": [
    "print(\"Processing WebApp data\")\n",
    "for folder in os.listdir(WEBAPP):\n",
    "    if os.path.isdir(WEBAPP+folder):\n",
    "        for sample in os.listdir(WEBAPP+folder):\n",
    "            #since labels are wrong no point filtering for cough in names\n",
    "            if os.path.splitext(sample)[-1] != \".wav\" or \"covid\" not in sample:\n",
    "                continue\n",
    "\n",
    "            cough.detect(WEBAPP+folder+\"/\"+sample, OUT, False)"
   ]
  },
  {
   "cell_type": "code",
   "execution_count": 3,
   "metadata": {},
   "outputs": [
    {
     "name": "stderr",
     "output_type": "stream",
     "text": [
      "\r",
      "  0%|          | 0/33 [00:00<?, ?it/s]"
     ]
    },
    {
     "name": "stdout",
     "output_type": "stream",
     "text": [
      "Processing VocoAI data\n",
      "WARNING:tensorflow:Model was constructed with shape (None, 60, 43, 1) for input Tensor(\"conv2d_input:0\", shape=(None, 60, 43, 1), dtype=float32), but it was called on an input with incompatible shape (None, 64, 32, 1).\n"
     ]
    },
    {
     "name": "stderr",
     "output_type": "stream",
     "text": [
      "100%|██████████| 33/33 [00:10<00:00,  3.16it/s]\n"
     ]
    }
   ],
   "source": [
    "print(\"Processing VocoAI data\")\n",
    "folder = DATASET+\"voco/\"\n",
    "for sample in tqdm(os.listdir(folder)):\n",
    "    if os.path.splitext(sample)[-1] != \".wav\":\n",
    "        continue\n",
    "\n",
    "    cough.detect(folder+sample, OUT, False)"
   ]
  },
  {
   "cell_type": "code",
   "execution_count": 5,
   "metadata": {},
   "outputs": [
    {
     "name": "stderr",
     "output_type": "stream",
     "text": [
      "\r",
      "  0%|          | 0/8 [00:00<?, ?it/s]"
     ]
    },
    {
     "name": "stdout",
     "output_type": "stream",
     "text": [
      "Processing Hospital data\n"
     ]
    },
    {
     "name": "stderr",
     "output_type": "stream",
     "text": [
      "100%|██████████| 8/8 [00:26<00:00,  3.31s/it]\n"
     ]
    }
   ],
   "source": [
    "print(\"Processing Hospital data\")\n",
    "folder = \"/home/splinter/Desktop/VoiceMed/Hospital/CleanedHospitalSamples/\"\n",
    "for patient in tqdm(os.listdir(folder)):\n",
    "    for sample in os.listdir(folder+patient):\n",
    "        if os.path.splitext(sample)[-1] != \".wav\" and \"cough\" in sample:\n",
    "            continue\n",
    "\n",
    "        cough.detect(folder+patient+\"/\"+sample, OUT, False)"
   ]
  },
  {
   "cell_type": "markdown",
   "metadata": {},
   "source": [
    "Did also some manual cleaning as a couple false positives where there due to the sligth inaccuracy of the cough detector"
   ]
  },
  {
   "cell_type": "code",
   "execution_count": 6,
   "metadata": {},
   "outputs": [
    {
     "name": "stderr",
     "output_type": "stream",
     "text": [
      "100%|██████████| 28/28 [02:59<00:00,  6.40s/it]\n"
     ]
    }
   ],
   "source": [
    "folder = \"data/negative/\"\n",
    "for sample in tqdm(os.listdir(folder)):\n",
    "    if os.path.splitext(sample)[-1] != \".wav\":\n",
    "        continue\n",
    "    \n",
    "    cough.detect(folder+sample, folder, False)    \n",
    "    os.system(\"rm '\"+folder+sample+\"'\")"
   ]
  },
  {
   "cell_type": "code",
   "execution_count": 8,
   "metadata": {},
   "outputs": [],
   "source": [
    "SR = 44000\n",
    "N_FFT = 2048\n",
    "#N_MELS = 60\n",
    "N_MELS = 64\n",
    "\n",
    "def melspectrogram(signal):\n",
    "    signal = librosa.util.normalize(signal)\n",
    "    spectro = librosa.feature.melspectrogram(\n",
    "        signal,\n",
    "        sr=SR,\n",
    "        n_mels=N_MELS,\n",
    "        n_fft=N_FFT\n",
    "    )\n",
    "    spectro = librosa.power_to_db(spectro)\n",
    "    spectro = spectro.astype(np.float32)\n",
    "    return spectro    "
   ]
  },
  {
   "cell_type": "markdown",
   "metadata": {},
   "source": [
    "Investigating the \"t\" dimension of the melspectrogram and how to get it to a precise value. Turns out that the ratio between \"t\" and the length in seconds of the signal is constant and is equal to 86. This investigation was carried in order to fix the decoder problem which scaled the spectrogram to higher dimensions due to the rounding of the inital dimension when running the convolution."
   ]
  },
  {
   "cell_type": "code",
   "execution_count": 24,
   "metadata": {},
   "outputs": [
    {
     "name": "stdout",
     "output_type": "stream",
     "text": [
      "0.5\n",
      "(64, 43)\n"
     ]
    }
   ],
   "source": [
    "signal, sr = librosa.load(\"data/positive/316.wav\", sr=SR)\n",
    "print(len(signal)/SR)\n",
    "print(melspectrogram(signal).shape)"
   ]
  },
  {
   "cell_type": "code",
   "execution_count": 25,
   "metadata": {},
   "outputs": [
    {
     "name": "stdout",
     "output_type": "stream",
     "text": [
      "11.572931818181818\n",
      "(64, 995)\n"
     ]
    }
   ],
   "source": [
    "signal, sr = librosa.load(\"/home/splinter/Desktop/VoiceMed/qualityCheck/bad_sample.wav\", sr=SR)\n",
    "print(len(signal)/SR)\n",
    "print(melspectrogram(signal).shape)"
   ]
  },
  {
   "cell_type": "markdown",
   "metadata": {},
   "source": [
    "The dimensions needed for the autoencoder to work are [64, 48, 1]. Which can be acheived with a sample leng of:"
   ]
  },
  {
   "cell_type": "code",
   "execution_count": 27,
   "metadata": {},
   "outputs": [
    {
     "name": "stdout",
     "output_type": "stream",
     "text": [
      "0.5581395348837209 seconds\n"
     ]
    }
   ],
   "source": [
    "print(48/86, \"seconds\")"
   ]
  },
  {
   "cell_type": "code",
   "execution_count": 9,
   "metadata": {},
   "outputs": [
    {
     "name": "stderr",
     "output_type": "stream",
     "text": [
      "100%|██████████| 349/349 [00:00<00:00, 477.03it/s]\n",
      "100%|██████████| 3596/3596 [00:07<00:00, 493.75it/s]\n"
     ]
    }
   ],
   "source": [
    "LABELS = [\"positive\", \"negative\"]\n",
    "\n",
    "data = []\n",
    "folder = \"data/\"\n",
    "\n",
    "for i, label in enumerate(LABELS):    \n",
    "    for sample in tqdm(os.listdir(folder+label+\"/\")):\n",
    "        if os.path.splitext(sample)[-1] != \".wav\":\n",
    "            continue\n",
    "\n",
    "        signal, sr = librosa.load(folder+label+\"/\"+sample, sr=SR)\n",
    "        data.append([i, melspectrogram(signal)])\n",
    "\n",
    "np.random.shuffle(data)\n",
    "np.save(\"dataset.npy\", data)"
   ]
  }
 ],
 "metadata": {
  "kernelspec": {
   "display_name": "Python 3",
   "language": "python",
   "name": "python3"
  },
  "language_info": {
   "codemirror_mode": {
    "name": "ipython",
    "version": 3
   },
   "file_extension": ".py",
   "mimetype": "text/x-python",
   "name": "python",
   "nbconvert_exporter": "python",
   "pygments_lexer": "ipython3",
   "version": "3.8.2"
  }
 },
 "nbformat": 4,
 "nbformat_minor": 4
}
